{
  "cells": [
    {
      "cell_type": "markdown",
      "metadata": {
        "colab_type": "text",
        "id": "view-in-github"
      },
      "source": [
        "<a href=\"https://colab.research.google.com/github/Vidya2000/testing/blob/main/testing_1.ipynb\" target=\"_parent\"><img src=\"https://colab.research.google.com/assets/colab-badge.svg\" alt=\"Open In Colab\"/></a>"
      ]
    },
    {
      "cell_type": "code",
      "execution_count": null,
      "metadata": {
        "id": "jneRjalkW9KN"
      },
      "outputs": [],
      "source": [
        "import requests\n",
        "from requests.auth import HTTPBasicAuth\n",
        "\n",
        "def get_file_commit_shas(owner, repo, file_path, username, password):\n",
        "    # GitHub API endpoint for commits of a file\n",
        "    url = f'https://api.github.com/repos/{owner}/{repo}/commits'\n",
        "\n",
        "    # Headers with basic authentication\n",
        "    headers = {\n",
        "        'Accept': 'application/vnd.github.v3+json'\n",
        "    }\n",
        "\n",
        "    # Parameters to filter commits based on the file path\n",
        "    params = {\n",
        "        'path': file_path\n",
        "    }\n",
        "\n",
        "    print(f'GitHub API URL: {url}')\n",
        "\n",
        "    # Make a GET request to the GitHub API with basic authentication\n",
        "    response = requests.get(url, headers=headers, params=params, auth=HTTPBasicAuth(username, password))\n",
        "\n",
        "    # Print the full response for debugging\n",
        "    print(f'Response: {response.text}')\n",
        "\n",
        "    # Check if the request was successful (status code 200)\n",
        "    if response.status_code == 200:\n",
        "        commits_info = [{'sha': commit['sha'], 'url': commit['url'], 'timestamp': commit['commit']['author']['date']} for commit in response.json()]\n",
        "        return commits_info\n",
        "    else:\n",
        "        print(f\"Error: {response.status_code}, {response.text}\")\n",
        "        return None\n",
        "\n",
        "def get_download_url_for_commit(owner, repo, sha, username, password):\n",
        "    # GitHub API endpoint for archive link (ZIP format)\n",
        "    url = f'https://api.github.com/repos/{owner}/{repo}/zipball/{sha}'\n",
        "\n",
        "    # Headers with basic authentication\n",
        "    headers = {\n",
        "        'Accept': 'application/vnd.github.v3+json'\n",
        "    }\n",
        "\n",
        "    # Make a GET request to the GitHub API with basic authentication\n",
        "    response = requests.get(url, headers=headers, allow_redirects=False, auth=HTTPBasicAuth(username, password))\n",
        "\n",
        "    # Check if the request was successful (status code 302 for redirect)\n",
        "    if response.status_code == 302:\n",
        "        download_url = response.headers.get('Location')\n",
        "        return download_url\n",
        "    else:\n",
        "        print(f\"Error fetching download URL: {response.status_code}, {response.text}\")\n",
        "        return None\n",
        "\n",
        "owner = 'Vidya2000'\n",
        "repo = 'testing'\n",
        "file_path = \"testing_1/vidya.xlsx\"  # Provide the path to the specific file\n",
        "username = 'Vidya2000'\n",
        "password = 'Vidya@2427'\n",
        "\n",
        "commit_info_list = get_file_commit_shas(owner, repo, file_path, username, password)\n",
        "\n",
        "if commit_info_list:\n",
        "    print(f'Commits for file \"{file_path}\":')\n",
        "    for commit_info in commit_info_list:\n",
        "        sha = commit_info['sha']\n",
        "        timestamp = commit_info['timestamp']\n",
        "        download_url = get_download_url_for_commit(owner, repo, sha, username, password)\n",
        "        if download_url:\n",
        "            print(f'Commit SHA: {sha}, Timestamp: {timestamp}, Download URL: {download_url}')\n",
        "else:\n",
        "    print('Failed to retrieve commits.')\n"
      ]
    }
  ],
  "metadata": {
    "colab": {
      "authorship_tag": "ABX9TyOHksayoYokN09Ki1lAFVi+",
      "include_colab_link": true,
      "provenance": []
    },
    "kernelspec": {
      "display_name": "Python 3",
      "name": "python3"
    },
    "language_info": {
      "name": "python"
    }
  },
  "nbformat": 4,
  "nbformat_minor": 0
}
